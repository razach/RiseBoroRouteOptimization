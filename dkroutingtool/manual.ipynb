{
 "cells": [
  {
   "cell_type": "code",
   "execution_count": null,
   "metadata": {},
   "outputs": [],
   "source": [
    "%load_ext autoreload\n",
    "%autoreload 2"
   ]
  },
  {
   "cell_type": "code",
   "execution_count": null,
   "metadata": {},
   "outputs": [],
   "source": [
    "import sys\n",
    "import json\n",
    "import argparse\n",
    "import time\n",
    "\n",
    "import build_time_dist_matrix\n",
    "import optimization\n",
    "import visualization\n",
    "import schedule\n",
    "import upload_results\n",
    "import manual_viz\n",
    "\n",
    "\n",
    "\n",
    "with open('data/config.json', 'r') as opened:\n",
    "    config = json.load(opened)"
   ]
  },
  {
   "cell_type": "code",
   "execution_count": null,
   "metadata": {},
   "outputs": [],
   "source": [
    "\n",
    "    \n",
    "print(' *   Building Time/Distance Matrices')\n",
    "#check if node_loader_options are specified\n",
    "if 'node_loader_options' in config.keys():\n",
    "    node_data = build_time_dist_matrix.process_nodes(config['node_loader_options'], config['zone_configs'])\n",
    "else:\n",
    "    node_data = build_time_dist_matrix.process_nodes()\n",
    "\n",
    "print(f' *   Starting Model Run at {time.strftime(\"%H:%M:%S\")} (UTC)')\n",
    "\n",
    "routes_for_mapping_viz, vehicles_viz, zone_route_map = optimization.main(node_data, config)\n",
    "\n",
    "visualization.main(routes_for_mapping_viz, vehicles_viz, zone_route_map)\n",
    "\n"
   ]
  },
  {
   "cell_type": "code",
   "execution_count": null,
   "metadata": {},
   "outputs": [],
   "source": [
    "import datetime\n",
    "import matplotlib\n",
    "from matplotlib import pyplot\n",
    "import numpy as np\n",
    "import pandas as pd"
   ]
  },
  {
   "cell_type": "code",
   "execution_count": null,
   "metadata": {},
   "outputs": [],
   "source": [
    "pyplot.rcParams[\"figure.figsize\"] = [3,7]\n",
    "for route in route_dict:\n",
    "    distances = [0]+route_dict[route]['current_distance'][:-1]\n",
    "    times = route_dict[route]['time']\n",
    "    distances = np.array(distances).cumsum()\n",
    "    times = np.array(times)\n",
    "\n",
    "    y_ticks = [f'{name} - {datetime.timedelta(seconds=float(one_time))}' for one_time,name in zip(times,route_dict[route]['current_names'])]\n",
    "    pyplot.yticks(ticks=times, labels=y_ticks)\n",
    "    pyplot.plot(distances, times, marker='o')\n",
    "    pyplot.show()"
   ]
  },
  {
   "cell_type": "code",
   "execution_count": null,
   "metadata": {},
   "outputs": [],
   "source": []
  },
  {
   "cell_type": "code",
   "execution_count": null,
   "metadata": {},
   "outputs": [],
   "source": [
    "pyplot.rcParams[\"figure.figsize\"] = [3,7]\n",
    "for route in route_dict:\n",
    "    distances = pd.Series(route_dict[route]['travel_time']).shift(1).values[1:]\n",
    "    times = pd.Series(route_dict[route]['time']).diff()[1:]-150\n",
    "    times = (times-distances)\n",
    "    times = [int(t) for t in times]\n",
    "    #distances = np.array(distances).cumsum()\n",
    "    times = np.array(times)\n",
    "\n",
    "    y_ticks = [f'{name[0]} to {name[1]} - {datetime.timedelta(seconds=float(one_time))}' for one_time,name in zip(times,zip(route_dict[route]['current_names'], route_dict[route]['next_names']))]\n",
    "    pyplot.yticks(ticks=times, labels=y_ticks)\n",
    "    pyplot.plot(times, marker='o')\n",
    "    #pyplot.plot(distances, marker='o')\n",
    "    pyplot.show()"
   ]
  }
 ],
 "metadata": {
  "kernelspec": {
   "display_name": "ortools",
   "language": "python",
   "name": "ortools"
  },
  "language_info": {
   "codemirror_mode": {
    "name": "ipython",
    "version": 3
   },
   "file_extension": ".py",
   "mimetype": "text/x-python",
   "name": "python",
   "nbconvert_exporter": "python",
   "pygments_lexer": "ipython3",
   "version": "3.8.3"
  }
 },
 "nbformat": 4,
 "nbformat_minor": 2
}